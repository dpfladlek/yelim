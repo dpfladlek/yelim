{
 "cells": [
  {
   "cell_type": "code",
   "execution_count": 23,
   "metadata": {},
   "outputs": [],
   "source": [
    "import pandas as pd\n",
    "import numpy as np\n",
    "import matplotlib.pyplot as plt\n",
    "import seaborn as sns\n",
    "sns.set()"
   ]
  },
  {
   "cell_type": "markdown",
   "metadata": {},
   "source": [
    "#### 파일 불러오기"
   ]
  },
  {
   "cell_type": "code",
   "execution_count": 24,
   "metadata": {},
   "outputs": [],
   "source": [
    "input_fd = open('C:/Users/RYEJ/Documents/data/youtube-new/KRvideos.csv',errors = 'backslashreplace',encoding='utf-8')\n",
    "KR = pd.read_csv(input_fd, sep=',')\n",
    "\n",
    "input_fd = open('C:/Users/RYEJ/Documents/data/youtube-new/JPvideos.csv', errors = 'backslashreplace',encoding='utf-8')\n",
    "JP = pd.read_csv(input_fd, sep=',')\n",
    "\n",
    "US = pd.read_csv('C:/Users/RYEJ/Documents/data/youtube-new/USvideos.csv', sep=',')"
   ]
  },
  {
   "cell_type": "markdown",
   "metadata": {},
   "source": [
    "#### 파일이 잘 입력되었는지, 문자 깨짐은 없는지 확인 "
   ]
  },
  {
   "cell_type": "code",
   "execution_count": 25,
   "metadata": {},
   "outputs": [
    {
     "name": "stdout",
     "output_type": "stream",
     "text": [
      "(34567, 16)\n",
      "(20523, 16)\n",
      "(40949, 16)\n"
     ]
    }
   ],
   "source": [
    "print(KR.shape)\n",
    "print(JP.shape)\n",
    "print(US.shape)"
   ]
  },
  {
   "cell_type": "code",
   "execution_count": 26,
   "metadata": {},
   "outputs": [
    {
     "name": "stdout",
     "output_type": "stream",
     "text": [
      "      video_id trending_date                       title channel_title  \\\n",
      "0  RxGQe4EeEpA      17.14.11          좋아 by 민서_윤종신_좋니 답가        라푸마코리아   \n",
      "1  hH7wVE8OlQ0      17.14.11            JSA 귀순 북한군 총격 부상        Edward   \n",
      "2  9V8bnWUmE9U      17.14.11  나몰라패밀리 운동화 영상 2탄 (빼빼로데이버젼)     나몰라패밀리 핫쇼   \n",
      "3  0_8py-t5R80      17.14.11  이명박 출국 현장, 놓치면 안되는 장면         미디어몽구   \n",
      "4  bk55RbxiQdI      17.14.11     김장겸은 물러갔다 MBC 노조 환호와 눈물        NocutV   \n",
      "\n",
      "   category_id              publish_time  \\\n",
      "0           22  2017-11-13T07:07:36.000Z   \n",
      "1           25  2017-11-13T10:59:16.000Z   \n",
      "2           22  2017-11-11T07:16:08.000Z   \n",
      "3           25  2017-11-12T11:19:52.000Z   \n",
      "4           25  2017-11-13T11:08:59.000Z   \n",
      "\n",
      "                                                tags   views  likes  dislikes  \\\n",
      "0                      라푸마|\"윤종신\"|\"좋니\"|\"좋아\"|\"샬레\"|\"민서\"  156130   1422        40   \n",
      "1        JSA|\"귀순\"|\"북한군\"|\"총격\"|\"부상\"|\"JSA 귀순 북한군 총격 부상\"   76533    211        28   \n",
      "2                아디다스|\"빼빼로\"|\"핫쇼\"|\"나몰라패밀리\"|\"대학로\"|\"공연\"  421409   5112       166   \n",
      "3  이명박|\"이명박 출국금지\"|\"이명박 출국현장\"|\"이명박 바레인\"|\"이명박 대통령\"|...  222850   2093       173   \n",
      "4          nocutV|\"노컷V\"|\"CBS\"|\"mbc\"|\"김장겸\"|\"해임\"|\"허일후\"   84466   1094       109   \n",
      "\n",
      "   comment_count                                  thumbnail_link  \\\n",
      "0            272  https://i.ytimg.com/vi/RxGQe4EeEpA/default.jpg   \n",
      "1            113  https://i.ytimg.com/vi/hH7wVE8OlQ0/default.jpg   \n",
      "2            459  https://i.ytimg.com/vi/9V8bnWUmE9U/default.jpg   \n",
      "3           1219  https://i.ytimg.com/vi/0_8py-t5R80/default.jpg   \n",
      "4            450  https://i.ytimg.com/vi/bk55RbxiQdI/default.jpg   \n",
      "\n",
      "   comments_disabled  ratings_disabled  video_error_or_removed  \\\n",
      "0              False             False                   False   \n",
      "1              False             False                   False   \n",
      "2              False             False                   False   \n",
      "3              False             False                   False   \n",
      "4              False             False                   False   \n",
      "\n",
      "                                         description  \n",
      "0  윤종신 '좋니'의 답가 '좋아' 최초 공개!\\n그 여자의 이야기를 지금 만나보세요....  \n",
      "1  [채널A단독]北 병사 현재 '의식불명'… 혈압 떨어지는 중 \\n[채널A단독]우리측 ...  \n",
      "2                                    퍼가실때 꼭 출처 부탁드려요  \n",
      "3                                다스는 누구겁니까 듣고 난 후 표정  \n",
      "4  김장겸 MBC 사장이 결국 해임됐다.\\n\\nMBC 대주주인 방송문화진흥회는 13일 ...  \n",
      "      video_id trending_date                                      title  \\\n",
      "0  5ugKfHgsmYw      18.07.02                         陸自ヘリ、垂直に落下＝路上の車が撮影   \n",
      "1  ohObafdd34Y      18.07.02                     イッテQ お祭り男宮川×手越 巨大ブランコ②   \n",
      "2  aBr2kKAHN6M      18.07.02                      Live Views of Starman   \n",
      "3  5wNnwChvmsQ      18.07.02                 東京ディズニーリゾートの元キャストが暴露した秘密5選   \n",
      "4  B7J47qFvdsk      18.07.02  榮倉奈々、衝撃の死んだふり！映画『家に帰ると妻が必ず死んだふりをしています。』特報   \n",
      "\n",
      "          channel_title  category_id              publish_time  \\\n",
      "0            時事通信映像センター           25  2018-02-06T03:04:37.000Z   \n",
      "1  神谷えりな Kamiya Erina 2            1  2018-02-06T04:01:56.000Z   \n",
      "2                SpaceX           28  2018-02-06T21:38:22.000Z   \n",
      "3               アシタノワダイ           25  2018-02-06T06:08:49.000Z   \n",
      "4               シネマトゥデイ            1  2018-02-06T02:30:00.000Z   \n",
      "\n",
      "                                                tags    views   likes  \\\n",
      "0  事故|\"佐賀\"|\"佐賀県\"|\"ヘリコプター\"|\"ヘリ\"|\"自衛隊\"|\"墜落\"|\"落下\"|\"現...   188085     591   \n",
      "1                                             [none]    90929     442   \n",
      "2                                             [none]  6408303  165892   \n",
      "3                                            アシタノワダイ    96255    1165   \n",
      "4                                             [none]   108408    1336   \n",
      "\n",
      "   dislikes  comment_count                                  thumbnail_link  \\\n",
      "0       189              0  https://i.ytimg.com/vi/5ugKfHgsmYw/default.jpg   \n",
      "1        88            174  https://i.ytimg.com/vi/ohObafdd34Y/default.jpg   \n",
      "2      2331           3006  https://i.ytimg.com/vi/aBr2kKAHN6M/default.jpg   \n",
      "3       277            545  https://i.ytimg.com/vi/5wNnwChvmsQ/default.jpg   \n",
      "4        74            201  https://i.ytimg.com/vi/B7J47qFvdsk/default.jpg   \n",
      "\n",
      "   comments_disabled  ratings_disabled  video_error_or_removed  \\\n",
      "0               True             False                   False   \n",
      "1              False             False                   False   \n",
      "2              False             False                   False   \n",
      "3              False             False                   False   \n",
      "4              False             False                   False   \n",
      "\n",
      "                                         description  \n",
      "0  佐賀県神埼市の民家に墜落した陸上自衛隊のＡＨ６４Ｄ戦闘ヘリコプターが垂直に落下する様子を、近...  \n",
      "1                                                NaN  \n",
      "2                                                NaN  \n",
      "3  東京ディズニーリゾートの元キャストが暴露した秘密5選\\n\\nかたまりクリエイトさま\\n【検証...  \n",
      "4  家に帰ってきたサラリーマンのじゅん（安田顕）は、玄関で血を出して倒れている妻ちえ（榮倉奈々）...  \n",
      "      video_id trending_date  \\\n",
      "0  2kyS6SvSYSE      17.14.11   \n",
      "1  1ZAPwfrtAFY      17.14.11   \n",
      "2  5qpjK5DgCt4      17.14.11   \n",
      "3  puqaWrEC7tY      17.14.11   \n",
      "4  d380meD0W0M      17.14.11   \n",
      "\n",
      "                                               title          channel_title  \\\n",
      "0                 WE WANT TO TALK ABOUT OUR MARRIAGE           CaseyNeistat   \n",
      "1  The Trump Presidency: Last Week Tonight with J...        LastWeekTonight   \n",
      "2  Racist Superman | Rudy Mancuso, King Bach & Le...           Rudy Mancuso   \n",
      "3                   Nickelback Lyrics: Real or Fake?  Good Mythical Morning   \n",
      "4                           I Dare You: GOING BALD!?               nigahiga   \n",
      "\n",
      "   category_id              publish_time  \\\n",
      "0           22  2017-11-13T17:13:01.000Z   \n",
      "1           24  2017-11-13T07:30:00.000Z   \n",
      "2           23  2017-11-12T19:05:24.000Z   \n",
      "3           24  2017-11-13T11:00:04.000Z   \n",
      "4           24  2017-11-12T18:01:41.000Z   \n",
      "\n",
      "                                                tags    views   likes  \\\n",
      "0                                    SHANtell martin   748374   57527   \n",
      "1  last week tonight trump presidency|\"last week ...  2418783   97185   \n",
      "2  racist superman|\"rudy\"|\"mancuso\"|\"king\"|\"bach\"...  3191434  146033   \n",
      "3  rhett and link|\"gmm\"|\"good mythical morning\"|\"...   343168   10172   \n",
      "4  ryan|\"higa\"|\"higatv\"|\"nigahiga\"|\"i dare you\"|\"...  2095731  132235   \n",
      "\n",
      "   dislikes  comment_count                                  thumbnail_link  \\\n",
      "0      2966          15954  https://i.ytimg.com/vi/2kyS6SvSYSE/default.jpg   \n",
      "1      6146          12703  https://i.ytimg.com/vi/1ZAPwfrtAFY/default.jpg   \n",
      "2      5339           8181  https://i.ytimg.com/vi/5qpjK5DgCt4/default.jpg   \n",
      "3       666           2146  https://i.ytimg.com/vi/puqaWrEC7tY/default.jpg   \n",
      "4      1989          17518  https://i.ytimg.com/vi/d380meD0W0M/default.jpg   \n",
      "\n",
      "   comments_disabled  ratings_disabled  video_error_or_removed  \\\n",
      "0              False             False                   False   \n",
      "1              False             False                   False   \n",
      "2              False             False                   False   \n",
      "3              False             False                   False   \n",
      "4              False             False                   False   \n",
      "\n",
      "                                         description  \n",
      "0  SHANTELL'S CHANNEL - https://www.youtube.com/s...  \n",
      "1  One year after the presidential election, John...  \n",
      "2  WATCH MY PREVIOUS VIDEO ▶ \\n\\nSUBSCRIBE ► http...  \n",
      "3  Today we find out if Link is a Nickelback amat...  \n",
      "4  I know it's been a while since we did this sho...  \n"
     ]
    }
   ],
   "source": [
    "print(KR.head())\n",
    "print(JP.head())\n",
    "print(US.head())"
   ]
  },
  {
   "cell_type": "markdown",
   "metadata": {},
   "source": [
    "#### 변수명 확인"
   ]
  },
  {
   "cell_type": "code",
   "execution_count": 27,
   "metadata": {},
   "outputs": [
    {
     "name": "stdout",
     "output_type": "stream",
     "text": [
      "Index(['video_id', 'trending_date', 'title', 'channel_title', 'category_id',\n",
      "       'publish_time', 'tags', 'views', 'likes', 'dislikes', 'comment_count',\n",
      "       'thumbnail_link', 'comments_disabled', 'ratings_disabled',\n",
      "       'video_error_or_removed', 'description'],\n",
      "      dtype='object')\n",
      "Index(['video_id', 'trending_date', 'title', 'channel_title', 'category_id',\n",
      "       'publish_time', 'tags', 'views', 'likes', 'dislikes', 'comment_count',\n",
      "       'thumbnail_link', 'comments_disabled', 'ratings_disabled',\n",
      "       'video_error_or_removed', 'description'],\n",
      "      dtype='object')\n",
      "Index(['video_id', 'trending_date', 'title', 'channel_title', 'category_id',\n",
      "       'publish_time', 'tags', 'views', 'likes', 'dislikes', 'comment_count',\n",
      "       'thumbnail_link', 'comments_disabled', 'ratings_disabled',\n",
      "       'video_error_or_removed', 'description'],\n",
      "      dtype='object')\n"
     ]
    }
   ],
   "source": [
    "print(KR.columns)\n",
    "print(JP.columns)\n",
    "print(US.columns)"
   ]
  },
  {
   "cell_type": "markdown",
   "metadata": {},
   "source": [
    "#### 전처리"
   ]
  },
  {
   "cell_type": "code",
   "execution_count": 28,
   "metadata": {},
   "outputs": [
    {
     "name": "stdout",
     "output_type": "stream",
     "text": [
      "      video_id  category_id   views  likes  dislikes  comment_count Country\n",
      "0  RxGQe4EeEpA           22  156130   1422        40            272      KR\n",
      "1  hH7wVE8OlQ0           25   76533    211        28            113      KR\n",
      "2  9V8bnWUmE9U           22  421409   5112       166            459      KR\n",
      "3  0_8py-t5R80           25  222850   2093       173           1219      KR\n",
      "4  bk55RbxiQdI           25   84466   1094       109            450      KR\n"
     ]
    }
   ],
   "source": [
    "KR_cut=pd.DataFrame(KR[['video_id','category_id','views','likes','dislikes','comment_count']])\n",
    "JP_cut=pd.DataFrame(JP[['video_id','category_id','views','likes','dislikes','comment_count']])\n",
    "US_cut=pd.DataFrame(US[['video_id','category_id','views','likes','dislikes','comment_count']])\n",
    "KR_cut['Country']='KR'\n",
    "JP_cut['Country']='JP'\n",
    "US_cut['Country']='US'\n",
    "print(KR_cut.head())"
   ]
  },
  {
   "cell_type": "code",
   "execution_count": 29,
   "metadata": {},
   "outputs": [
    {
     "name": "stdout",
     "output_type": "stream",
     "text": [
      "(96039, 7)\n"
     ]
    }
   ],
   "source": [
    "data = pd.concat([KR_cut,JP_cut,US_cut])\n",
    "print(data.shape)"
   ]
  },
  {
   "cell_type": "markdown",
   "metadata": {},
   "source": [
    "# 목표(확인하고 싶은 insight)\n",
    "1. 평균 like 수 \n",
    "2. 일정 like 수 이상인 글의 비율\n",
    "3. like/dislike 비율\n",
    "4. category별 평균 views\n",
    "5. top 5 view category\n",
    "6. comment count/views 비율\n",
    "7. likes views 관계"
   ]
  },
  {
   "cell_type": "markdown",
   "metadata": {},
   "source": [
    "* 전체 국가를 고려하지 않고 한, 미, 일 세 개의 국가만 분석 대상으로 선택"
   ]
  },
  {
   "cell_type": "markdown",
   "metadata": {},
   "source": [
    "## 1. 평균 like 수 알아보기"
   ]
  },
  {
   "cell_type": "code",
   "execution_count": 30,
   "metadata": {},
   "outputs": [
    {
     "name": "stdout",
     "output_type": "stream",
     "text": [
      "Country\n",
      "JP     165406898\n",
      "KR     421247912\n",
      "US    3041147198\n",
      "Name: likes, dtype: int64\n",
      "Country\n",
      "JP      7528321\n",
      "KR     18634999\n",
      "US    151978155\n",
      "Name: dislikes, dtype: int64\n"
     ]
    }
   ],
   "source": [
    "#데이터 전처리2\n",
    "from pandas import DataFrame as df\n",
    "\n",
    "grouped_likes=data.groupby('Country').likes.sum()\n",
    "grouped_dislikes=data.groupby('Country').dislikes.sum()\n",
    "print(grouped_likes)\n",
    "print(grouped_dislikes)\n",
    "\n",
    "df1=df(data={'Country':['KR','JP','US'],'likes_sum':[421247912,165406898,3041147198],'dislikes_sum':[18634999,7528321,151978155]})\n",
    "\n",
    "df1['likes_pcts']=df1['likes_sum']/(df1['likes_sum']+df1['dislikes_sum'])\n",
    "df1['dislikes_pcts']=df1['dislikes_sum']/(df1['likes_sum']+df1['dislikes_sum'])\n",
    "\n"
   ]
  },
  {
   "cell_type": "code",
   "execution_count": 31,
   "metadata": {},
   "outputs": [
    {
     "name": "stdout",
     "output_type": "stream",
     "text": [
      "12186.41802875575\n",
      "8059.586707596355\n",
      "74266.7024347359\n"
     ]
    },
    {
     "data": {
      "text/plain": [
       "([<matplotlib.axis.XTick at 0x186dd10fb70>,\n",
       "  <matplotlib.axis.XTick at 0x186dd10f470>,\n",
       "  <matplotlib.axis.XTick at 0x186e06d6d68>],\n",
       " <a list of 3 Text xticklabel objects>)"
      ]
     },
     "execution_count": 31,
     "metadata": {},
     "output_type": "execute_result"
    },
    {
     "data": {
      "image/png": "[encoded data removed]",
      "text/plain": [
       "<Figure size 432x288 with 1 Axes>"
      ]
     },
     "metadata": {},
     "output_type": "display_data"
    }
   ],
   "source": [
    "print(KR.loc[:,\"likes\"].mean())\n",
    "print(JP.loc[:,\"likes\"].mean())\n",
    "print(US.loc[:,\"likes\"].mean())  \n",
    "\n",
    "# 나라별 좋아요 수 평균 막대 그래프\n",
    "df2=df(data={'Country':['KR','JP','US'],'likes_mean':[12186.41802875575,8059.586707596355,74266.7024347359]})\n",
    "\n",
    "df2.plot(kind='bar')\n",
    "plt.xticks([0,1,2], ['KR', 'JP', 'US'])"
   ]
  },
  {
   "cell_type": "markdown",
   "metadata": {},
   "source": [
    "평균 like 수는 미국이 가장 높음"
   ]
  },
  {
   "cell_type": "markdown",
   "metadata": {},
   "source": [
    "## 2 일정 like 수 (100,000)이상인 글의 비율\n",
    "### 2-1 전체 글의 수"
   ]
  },
  {
   "cell_type": "code",
   "execution_count": 32,
   "metadata": {
    "scrolled": true
   },
   "outputs": [
    {
     "name": "stdout",
     "output_type": "stream",
     "text": [
      "(34567, 16)\n",
      "(20523, 16)\n",
      "(40949, 16)\n"
     ]
    }
   ],
   "source": [
    "print(KR.shape)\n",
    "print(JP.shape)\n",
    "print(US.shape)       "
   ]
  },
  {
   "cell_type": "markdown",
   "metadata": {},
   "source": [
    "전체 글의 수는 미국 > 한국 > 일본 순으로 많음"
   ]
  },
  {
   "cell_type": "markdown",
   "metadata": {},
   "source": [
    "### 2-2. 일정 like 수(100,000) 이상인 글의 수"
   ]
  },
  {
   "cell_type": "code",
   "execution_count": 33,
   "metadata": {},
   "outputs": [
    {
     "name": "stdout",
     "output_type": "stream",
     "text": [
      "551\n",
      "250\n",
      "6586\n"
     ]
    }
   ],
   "source": [
    "print(np.count_nonzero(KR.loc[:,\"likes\"] >= 100000))\n",
    "print(np.count_nonzero(JP.loc[:,\"likes\"] >= 100000))\n",
    "print(np.count_nonzero(US.loc[:,\"likes\"] >= 100000))"
   ]
  },
  {
   "cell_type": "markdown",
   "metadata": {},
   "source": [
    "like의 수가 10만 개가 넘는 글 역시 미국이 가장 많음"
   ]
  },
  {
   "cell_type": "markdown",
   "metadata": {},
   "source": [
    "### 2-3. like의 수가 100,000 이상인 글의 비율"
   ]
  },
  {
   "cell_type": "code",
   "execution_count": 34,
   "metadata": {},
   "outputs": [
    {
     "name": "stdout",
     "output_type": "stream",
     "text": [
      "1.594005843723783\n",
      "1.2181454952979585\n",
      "16.083420840557768\n"
     ]
    }
   ],
   "source": [
    "print(np.count_nonzero(KR.loc[:,\"likes\"] >= 100000) / KR.shape[0] *100)\n",
    "print(np.count_nonzero(JP.loc[:,\"likes\"] >= 100000) / JP.shape[0] *100)\n",
    "print(np.count_nonzero(US.loc[:,\"likes\"] >= 100000) / US.shape[0] * 100)"
   ]
  },
  {
   "cell_type": "markdown",
   "metadata": {},
   "source": [
    "like의 수가 100,000이 넘는 글의 비율은 미국이 가장 높다."
   ]
  },
  {
   "cell_type": "markdown",
   "metadata": {},
   "source": [
    "# 3. like/dislike 비율"
   ]
  },
  {
   "cell_type": "markdown",
   "metadata": {},
   "source": [
    "### 3-1. 나라별 dislike의 평균"
   ]
  },
  {
   "cell_type": "code",
   "execution_count": 35,
   "metadata": {},
   "outputs": [
    {
     "name": "stdout",
     "output_type": "stream",
     "text": [
      "539.097954696676\n",
      "366.82361253228083\n",
      "3711.400888910596\n"
     ]
    }
   ],
   "source": [
    "print(KR.loc[:,\"dislikes\"].mean())\n",
    "print(JP.loc[:,\"dislikes\"].mean())\n",
    "print(US.loc[:,\"dislikes\"].mean())"
   ]
  },
  {
   "cell_type": "markdown",
   "metadata": {},
   "source": [
    "### 3-2. 나라별 총 like의 수 , dislike의 수"
   ]
  },
  {
   "cell_type": "code",
   "execution_count": 36,
   "metadata": {},
   "outputs": [
    {
     "name": "stdout",
     "output_type": "stream",
     "text": [
      "421247912\n",
      "165406898\n",
      "3041147198\n"
     ]
    },
    {
     "data": {
      "text/plain": [
       "<matplotlib.axes._subplots.AxesSubplot at 0x186dd879b70>"
      ]
     },
     "execution_count": 36,
     "metadata": {},
     "output_type": "execute_result"
    },
    {
     "data": {
      "image/png": "[encoded data removed]",
      "text/plain": [
       "<Figure size 432x288 with 1 Axes>"
      ]
     },
     "metadata": {},
     "output_type": "display_data"
    }
   ],
   "source": [
    "print(KR.loc[:,\"likes\"].sum())\n",
    "print(JP.loc[:,\"likes\"].sum())\n",
    "print(US.loc[:,\"likes\"].sum())\n",
    "\n",
    "# 각 나라별 좋아요 수 비교 박스플랏\n",
    "data.boxplot(column='likes',by='Country')"
   ]
  },
  {
   "cell_type": "code",
   "execution_count": 37,
   "metadata": {},
   "outputs": [
    {
     "name": "stdout",
     "output_type": "stream",
     "text": [
      "18634999\n",
      "7528321\n",
      "151978155\n"
     ]
    },
    {
     "data": {
      "text/plain": [
       "<matplotlib.axes._subplots.AxesSubplot at 0x186e0699da0>"
      ]
     },
     "execution_count": 37,
     "metadata": {},
     "output_type": "execute_result"
    },
    {
     "data": {
      "image/png": "[encoded data removed]",
      "text/plain": [
       "<Figure size 432x288 with 1 Axes>"
      ]
     },
     "metadata": {},
     "output_type": "display_data"
    }
   ],
   "source": [
    "print(KR.loc[:,\"dislikes\"].sum())\n",
    "print(JP.loc[:,\"dislikes\"].sum())\n",
    "print(US.loc[:,\"dislikes\"].sum())\n",
    "\n",
    "#각 나라별 싫어요 수 비교 박스플랏\n",
    "data.boxplot(column='dislikes',by='Country')"
   ]
  },
  {
   "cell_type": "markdown",
   "metadata": {},
   "source": [
    "### 3-3.  나라별 총 like의 수와 dislike 수의 비율"
   ]
  },
  {
   "cell_type": "code",
   "execution_count": 38,
   "metadata": {},
   "outputs": [
    {
     "name": "stdout",
     "output_type": "stream",
     "text": [
      "0.044237605621651126\n",
      "0.04551394827560336\n",
      "0.049973955584901614\n",
      "\n",
      "\n",
      "22.605201749675437\n",
      "21.971286559114574\n",
      "20.010423195359884\n"
     ]
    },
    {
     "data": {
      "text/plain": [
       "([<matplotlib.axis.YTick at 0x186dd988550>,\n",
       "  <matplotlib.axis.YTick at 0x186dd98dda0>,\n",
       "  <matplotlib.axis.YTick at 0x186dd95a860>],\n",
       " <a list of 3 Text yticklabel objects>)"
      ]
     },
     "execution_count": 38,
     "metadata": {},
     "output_type": "execute_result"
    },
    {
     "data": {
      "image/png": "[encoded data removed]",
      "text/plain": [
       "<Figure size 432x288 with 1 Axes>"
      ]
     },
     "metadata": {},
     "output_type": "display_data"
    }
   ],
   "source": [
    "print((KR.loc[:,\"dislikes\"].sum()) / (KR.loc[:,\"likes\"].sum()))\n",
    "print((JP.loc[:,\"dislikes\"].sum()) / (JP.loc[:,\"likes\"].sum()))\n",
    "print((US.loc[:,\"dislikes\"].sum()) / (US.loc[:,\"likes\"].sum()))\n",
    "\n",
    "print(\"\\n\")\n",
    "print((KR.loc[:,\"likes\"].sum()) / (KR.loc[:,\"dislikes\"].sum()))\n",
    "print((JP.loc[:,\"likes\"].sum()) / (JP.loc[:,\"dislikes\"].sum()))\n",
    "print((US.loc[:,\"likes\"].sum()) / (US.loc[:,\"dislikes\"].sum()))\n",
    "\n",
    "# 나라별 좋아요/싫어요 비율 그래프 그리기\n",
    "df1[['likes_pcts','dislikes_pcts']].plot(kind='barh',stacked=True)\n",
    "plt.yticks([0,1,2], ['KR', 'JP', 'US'])\n",
    "\n"
   ]
  },
  {
   "cell_type": "markdown",
   "metadata": {},
   "source": [
    "한국의 like가 가장 후하다"
   ]
  },
  {
   "cell_type": "markdown",
   "metadata": {},
   "source": [
    "### 3-4. 전체에서 dislike의 비율"
   ]
  },
  {
   "cell_type": "code",
   "execution_count": 39,
   "metadata": {},
   "outputs": [
    {
     "name": "stdout",
     "output_type": "stream",
     "text": [
      "539.097954696676\n",
      "366.82361253228083\n",
      "3711.400888910596\n"
     ]
    }
   ],
   "source": [
    "print((KR.loc[:,\"dislikes\"].sum()) / KR.shape[0])\n",
    "print((JP.loc[:,\"dislikes\"].sum()) / JP.shape[0])\n",
    "print((US.loc[:,\"dislikes\"].sum()) / US.shape[0])"
   ]
  },
  {
   "cell_type": "markdown",
   "metadata": {},
   "source": [
    "### 3-5. 전체에서 like의 비율"
   ]
  },
  {
   "cell_type": "code",
   "execution_count": 40,
   "metadata": {},
   "outputs": [
    {
     "name": "stdout",
     "output_type": "stream",
     "text": [
      "12186.41802875575\n",
      "8059.586707596355\n",
      "74266.7024347359\n"
     ]
    }
   ],
   "source": [
    "print((KR.loc[:,\"likes\"].sum()) / KR.shape[0])\n",
    "print((JP.loc[:,\"likes\"].sum()) / JP.shape[0])\n",
    "print((US.loc[:,\"likes\"].sum()) / US.shape[0])"
   ]
  },
  {
   "cell_type": "markdown",
   "metadata": {},
   "source": [
    "### 3-6. dislike의 수 / (like의 수+dislike의 수)"
   ]
  },
  {
   "cell_type": "code",
   "execution_count": 41,
   "metadata": {},
   "outputs": [
    {
     "name": "stdout",
     "output_type": "stream",
     "text": [
      "0.04236354387497449\n",
      "0.04353260743261325\n",
      "0.04759542398083862\n"
     ]
    }
   ],
   "source": [
    "print(KR.loc[:,\"dislikes\"].sum()/(KR.loc[:,\"dislikes\"].sum()+KR.loc[:,\"likes\"].sum()))\n",
    "print(JP.loc[:,\"dislikes\"].sum()/(JP.loc[:,\"dislikes\"].sum()+JP.loc[:,\"likes\"].sum()))\n",
    "print(US.loc[:,\"dislikes\"].sum()/(US.loc[:,\"dislikes\"].sum()+US.loc[:,\"likes\"].sum()))"
   ]
  },
  {
   "cell_type": "markdown",
   "metadata": {},
   "source": [
    "## 4.category별 평균 views\n",
    "각 국가에서 카테고리별 평균 조회수 확인"
   ]
  },
  {
   "cell_type": "markdown",
   "metadata": {},
   "source": [
    "각 국가의 category_id, views 변수만 추출한 데이터를 만든다."
   ]
  },
  {
   "cell_type": "code",
   "execution_count": 42,
   "metadata": {},
   "outputs": [],
   "source": [
    "KR['views'] = KR['views']/1000000\n",
    "JP['views'] = JP['views']/1000000\n",
    "US['views'] = US['views']/1000000\n",
    "\n",
    "KR_C = KR.loc[:,['category_id', 'views']]\n",
    "JP_C = JP.loc[:,['category_id', 'views']]\n",
    "US_C = US.loc[:,['category_id', 'views']]"
   ]
  },
  {
   "cell_type": "markdown",
   "metadata": {},
   "source": [
    "NA 확인"
   ]
  },
  {
   "cell_type": "code",
   "execution_count": 43,
   "metadata": {},
   "outputs": [
    {
     "name": "stdout",
     "output_type": "stream",
     "text": [
      "0\n",
      "0\n",
      "0\n"
     ]
    }
   ],
   "source": [
    "print(np.count_nonzero(KR_C.isnull()))\n",
    "print(np.count_nonzero(JP_C.isnull()))\n",
    "print(np.count_nonzero(US_C.isnull()))"
   ]
  },
  {
   "cell_type": "code",
   "execution_count": 44,
   "metadata": {},
   "outputs": [
    {
     "name": "stdout",
     "output_type": "stream",
     "text": [
      "category_id    34567\n",
      "views          34567\n",
      "dtype: int64\n",
      "category_id    20523\n",
      "views          20523\n",
      "dtype: int64\n",
      "category_id    40949\n",
      "views          40949\n",
      "dtype: int64\n"
     ]
    }
   ],
   "source": [
    "print(KR_C.count())\n",
    "print(JP_C.count())\n",
    "print(US_C.count())"
   ]
  },
  {
   "cell_type": "code",
   "execution_count": 45,
   "metadata": {
    "scrolled": true
   },
   "outputs": [
    {
     "name": "stdout",
     "output_type": "stream",
     "text": [
      "[ 1  2 10 15 17 19 20 22 23 24 25 26 27 28 29 43 44]\n",
      "[ 1  2 10 15 17 19 20 22 23 24 25 26 27 28 29]\n",
      "[ 1  2 10 15 17 19 20 22 23 24 25 26 27 28 29 43]\n"
     ]
    }
   ],
   "source": [
    "print(np.sort(KR_C['category_id'].unique()))\n",
    "print(np.sort(JP_C['category_id'].unique()))\n",
    "print(np.sort(US_C['category_id'].unique()))"
   ]
  },
  {
   "cell_type": "code",
   "execution_count": 46,
   "metadata": {},
   "outputs": [],
   "source": [
    "KR_C.rename(columns = {'views' : 'views_KR'}, inplace = True)\n",
    "KR_Cmean = KR_C.groupby('category_id').mean()\n",
    "JP_C.rename(columns = {'views' : 'views_JP'}, inplace = True)\n",
    "JP_Cmean = JP_C.groupby('category_id').mean()\n",
    "US_C.rename(columns = {'views' : 'views_US'}, inplace = True)\n",
    "US_Cmean = US_C.groupby('category_id').mean()"
   ]
  },
  {
   "cell_type": "code",
   "execution_count": 47,
   "metadata": {},
   "outputs": [
    {
     "name": "stdout",
     "output_type": "stream",
     "text": [
      "             views_KR\n",
      "category_id          \n",
      "1            0.544015\n",
      "2            0.119867\n",
      "10           2.080543\n",
      "15           0.202228\n",
      "17           0.598750\n",
      "19           0.240509\n",
      "20           0.281442\n",
      "22           0.209803\n",
      "23           0.359845\n",
      "24           0.510381\n",
      "25           0.154678\n",
      "26           0.314618\n",
      "27           0.151162\n",
      "28           2.685160\n",
      "29           0.063165\n",
      "43           0.106298\n",
      "44           0.016650\n",
      "             views_JP\n",
      "category_id          \n",
      "1            0.255402\n",
      "2            0.083192\n",
      "10           0.829724\n",
      "15           0.062717\n",
      "17           0.285089\n",
      "19           0.103296\n",
      "20           0.168472\n",
      "22           0.150061\n",
      "23           0.378161\n",
      "24           0.282197\n",
      "25           0.133826\n",
      "26           0.135691\n",
      "27           0.086668\n",
      "28           1.213748\n",
      "29           0.090034\n",
      "             views_US\n",
      "category_id          \n",
      "1            3.106250\n",
      "2            1.355965\n",
      "10           6.201003\n",
      "15           0.831143\n",
      "17           2.025969\n",
      "19           0.854620\n",
      "20           2.620831\n",
      "22           1.531835\n",
      "23           1.480308\n",
      "24           2.067883\n",
      "25           0.592588\n",
      "26           0.983730\n",
      "27           0.712941\n",
      "28           1.452627\n",
      "29           2.963884\n",
      "43           0.903527\n"
     ]
    }
   ],
   "source": [
    "print(KR_Cmean)\n",
    "print(JP_Cmean)\n",
    "print(US_Cmean)"
   ]
  },
  {
   "cell_type": "code",
   "execution_count": 60,
   "metadata": {
    "scrolled": true
   },
   "outputs": [
    {
     "ename": "ValueError",
     "evalue": "Could not interpret input 'category_id'",
     "output_type": "error",
     "traceback": [
      "\u001b[1;31m---------------------------------------------------------------------------\u001b[0m",
      "\u001b[1;31mValueError\u001b[0m                                Traceback (most recent call last)",
      "\u001b[1;32m<ipython-input-60-be4fb34dd946>\u001b[0m in \u001b[0;36m<module>\u001b[1;34m()\u001b[0m\n\u001b[0;32m      3\u001b[0m \u001b[1;33m\u001b[0m\u001b[0m\n\u001b[0;32m      4\u001b[0m \u001b[0mfig1\u001b[0m \u001b[1;33m=\u001b[0m \u001b[0mplt\u001b[0m\u001b[1;33m.\u001b[0m\u001b[0msubplots\u001b[0m\u001b[1;33m(\u001b[0m\u001b[1;33m)\u001b[0m\u001b[1;33m\u001b[0m\u001b[0m\n\u001b[1;32m----> 5\u001b[1;33m \u001b[0mfig1\u001b[0m \u001b[1;33m=\u001b[0m \u001b[0msns\u001b[0m\u001b[1;33m.\u001b[0m\u001b[0mbarplot\u001b[0m\u001b[1;33m(\u001b[0m\u001b[0mx\u001b[0m \u001b[1;33m=\u001b[0m \u001b[1;34m'category_id'\u001b[0m\u001b[1;33m,\u001b[0m \u001b[0my\u001b[0m \u001b[1;33m=\u001b[0m \u001b[1;34m'views_KR'\u001b[0m\u001b[1;33m,\u001b[0m \u001b[0mdata\u001b[0m \u001b[1;33m=\u001b[0m \u001b[0mKR_Cmean\u001b[0m\u001b[1;33m)\u001b[0m\u001b[1;33m\u001b[0m\u001b[0m\n\u001b[0m\u001b[0;32m      6\u001b[0m \u001b[0mfig1\u001b[0m\u001b[1;33m.\u001b[0m\u001b[0mset_title\u001b[0m\u001b[1;33m(\u001b[0m\u001b[1;34m'Count of Views by Categories : KOREA'\u001b[0m\u001b[1;33m)\u001b[0m\u001b[1;33m\u001b[0m\u001b[0m\n\u001b[0;32m      7\u001b[0m \u001b[0mfig1\u001b[0m\u001b[1;33m.\u001b[0m\u001b[0mset_ylabel\u001b[0m\u001b[1;33m(\u001b[0m\u001b[1;34m'Views(million)'\u001b[0m\u001b[1;33m)\u001b[0m\u001b[1;33m\u001b[0m\u001b[0m\n",
      "\u001b[1;32m~\\Anaconda3\\lib\\site-packages\\seaborn\\categorical.py\u001b[0m in \u001b[0;36mbarplot\u001b[1;34m(x, y, hue, data, order, hue_order, estimator, ci, n_boot, units, orient, color, palette, saturation, errcolor, errwidth, capsize, dodge, ax, **kwargs)\u001b[0m\n\u001b[0;32m   3147\u001b[0m                           \u001b[0mestimator\u001b[0m\u001b[1;33m,\u001b[0m \u001b[0mci\u001b[0m\u001b[1;33m,\u001b[0m \u001b[0mn_boot\u001b[0m\u001b[1;33m,\u001b[0m \u001b[0munits\u001b[0m\u001b[1;33m,\u001b[0m\u001b[1;33m\u001b[0m\u001b[0m\n\u001b[0;32m   3148\u001b[0m                           \u001b[0morient\u001b[0m\u001b[1;33m,\u001b[0m \u001b[0mcolor\u001b[0m\u001b[1;33m,\u001b[0m \u001b[0mpalette\u001b[0m\u001b[1;33m,\u001b[0m \u001b[0msaturation\u001b[0m\u001b[1;33m,\u001b[0m\u001b[1;33m\u001b[0m\u001b[0m\n\u001b[1;32m-> 3149\u001b[1;33m                           errcolor, errwidth, capsize, dodge)\n\u001b[0m\u001b[0;32m   3150\u001b[0m \u001b[1;33m\u001b[0m\u001b[0m\n\u001b[0;32m   3151\u001b[0m     \u001b[1;32mif\u001b[0m \u001b[0max\u001b[0m \u001b[1;32mis\u001b[0m \u001b[1;32mNone\u001b[0m\u001b[1;33m:\u001b[0m\u001b[1;33m\u001b[0m\u001b[0m\n",
      "\u001b[1;32m~\\Anaconda3\\lib\\site-packages\\seaborn\\categorical.py\u001b[0m in \u001b[0;36m__init__\u001b[1;34m(self, x, y, hue, data, order, hue_order, estimator, ci, n_boot, units, orient, color, palette, saturation, errcolor, errwidth, capsize, dodge)\u001b[0m\n\u001b[0;32m   1605\u001b[0m         \u001b[1;34m\"\"\"Initialize the plotter.\"\"\"\u001b[0m\u001b[1;33m\u001b[0m\u001b[0m\n\u001b[0;32m   1606\u001b[0m         self.establish_variables(x, y, hue, data, orient,\n\u001b[1;32m-> 1607\u001b[1;33m                                  order, hue_order, units)\n\u001b[0m\u001b[0;32m   1608\u001b[0m         \u001b[0mself\u001b[0m\u001b[1;33m.\u001b[0m\u001b[0mestablish_colors\u001b[0m\u001b[1;33m(\u001b[0m\u001b[0mcolor\u001b[0m\u001b[1;33m,\u001b[0m \u001b[0mpalette\u001b[0m\u001b[1;33m,\u001b[0m \u001b[0msaturation\u001b[0m\u001b[1;33m)\u001b[0m\u001b[1;33m\u001b[0m\u001b[0m\n\u001b[0;32m   1609\u001b[0m         \u001b[0mself\u001b[0m\u001b[1;33m.\u001b[0m\u001b[0mestimate_statistic\u001b[0m\u001b[1;33m(\u001b[0m\u001b[0mestimator\u001b[0m\u001b[1;33m,\u001b[0m \u001b[0mci\u001b[0m\u001b[1;33m,\u001b[0m \u001b[0mn_boot\u001b[0m\u001b[1;33m)\u001b[0m\u001b[1;33m\u001b[0m\u001b[0m\n",
      "\u001b[1;32m~\\Anaconda3\\lib\\site-packages\\seaborn\\categorical.py\u001b[0m in \u001b[0;36mestablish_variables\u001b[1;34m(self, x, y, hue, data, orient, order, hue_order, units)\u001b[0m\n\u001b[0;32m    153\u001b[0m                 \u001b[1;32mif\u001b[0m \u001b[0misinstance\u001b[0m\u001b[1;33m(\u001b[0m\u001b[0minput\u001b[0m\u001b[1;33m,\u001b[0m \u001b[0mstring_types\u001b[0m\u001b[1;33m)\u001b[0m\u001b[1;33m:\u001b[0m\u001b[1;33m\u001b[0m\u001b[0m\n\u001b[0;32m    154\u001b[0m                     \u001b[0merr\u001b[0m \u001b[1;33m=\u001b[0m \u001b[1;34m\"Could not interpret input '{}'\"\u001b[0m\u001b[1;33m.\u001b[0m\u001b[0mformat\u001b[0m\u001b[1;33m(\u001b[0m\u001b[0minput\u001b[0m\u001b[1;33m)\u001b[0m\u001b[1;33m\u001b[0m\u001b[0m\n\u001b[1;32m--> 155\u001b[1;33m                     \u001b[1;32mraise\u001b[0m \u001b[0mValueError\u001b[0m\u001b[1;33m(\u001b[0m\u001b[0merr\u001b[0m\u001b[1;33m)\u001b[0m\u001b[1;33m\u001b[0m\u001b[0m\n\u001b[0m\u001b[0;32m    156\u001b[0m \u001b[1;33m\u001b[0m\u001b[0m\n\u001b[0;32m    157\u001b[0m             \u001b[1;31m# Figure out the plotting orientation\u001b[0m\u001b[1;33m\u001b[0m\u001b[1;33m\u001b[0m\u001b[0m\n",
      "\u001b[1;31mValueError\u001b[0m: Could not interpret input 'category_id'"
     ]
    },
    {
     "data": {
      "image/png": "[encoded data removed]",
      "text/plain": [
       "<Figure size 432x288 with 1 Axes>"
      ]
     },
     "metadata": {},
     "output_type": "display_data"
    }
   ],
   "source": [
    "import matplotlib.pyplot as plt\n",
    "import seaborn as sns\n",
    "\n",
    "fig1 = plt.subplots()\n",
    "fig1 = sns.barplot(x = 'category_id', y = 'views_KR', data = KR_Cmean)\n",
    "fig1.set_title('Count of Views by Categories : KOREA') \n",
    "fig1.set_ylabel('Views(million)')\n",
    "\n",
    "fig2 = plt.subplots()\n",
    "fig2 = sns.barplot(x = 'category_id', y = 'views_JP', data = JP_Cmean)\n",
    "fig2.set_title('Count of Views by Categories : JAPAN') \n",
    "fig2.set_ylabel('Views(million)')\n",
    "\n",
    "fig3 = plt.subplots()\n",
    "fig3 = sns.barplot(x = 'category_id', y = 'views_US', data = US_Cmean)\n",
    "fig3.set_title('Count of Views by Categories : US') \n",
    "fig3.set_ylabel('Views(million)')"
   ]
  },
  {
   "cell_type": "markdown",
   "metadata": {},
   "source": [
    "각 국가의 날짜별 총 조회수 히스토그램"
   ]
  },
  {
   "cell_type": "code",
   "execution_count": 49,
   "metadata": {},
   "outputs": [],
   "source": [
    "KR_D = KR.loc[:,['trending_date', 'views']]\n",
    "JP_D = JP.loc[:,['trending_date', 'views']]\n",
    "US_D = US.loc[:,['trending_date', 'views']]\n",
    "\n",
    "KR_D.rename(columns = {'views' : 'views_KR'}, inplace = True)\n",
    "JP_D.rename(columns = {'views' : 'views_JP'}, inplace = True)\n",
    "US_D.rename(columns = {'views' : 'views_US'}, inplace = True)\n",
    "\n",
    "KR_Dsum = KR_D.groupby('trending_date').sum().reset_index()\n",
    "JP_Dsum = JP_D.groupby('trending_date').sum().reset_index()\n",
    "US_Dsum = US_D.groupby('trending_date').sum().reset_index()\n",
    "\n",
    "VIEWS = pd.merge(KR_Dsum, JP_Dsum, on = 'trending_date')\n",
    "VIEWS = pd.merge(VIEWS, US_Dsum, on = 'trending_date')\n",
    "VIEWS['views_mean'] = (VIEWS['views_KR'] + VIEWS['views_JP'] + VIEWS['views_US'])/3"
   ]
  },
  {
   "cell_type": "code",
   "execution_count": 50,
   "metadata": {},
   "outputs": [
    {
     "data": {
      "text/plain": [
       "Text(0,0.5,'Views(million)')"
      ]
     },
     "execution_count": 50,
     "metadata": {},
     "output_type": "execute_result"
    },
    {
     "data": {
      "image/png": "[encoded data removed]",
      "text/plain": [
       "<Figure size 432x288 with 1 Axes>"
      ]
     },
     "metadata": {},
     "output_type": "display_data"
    }
   ],
   "source": [
    "fig4 = plt.subplots()\n",
    "fig4 = sns.barplot(x = 'trending_date', y = 'views_mean', data = VIEWS)\n",
    "fig4.set_title('Daily Count of Views') \n",
    "fig4.set_ylabel('Views(million)')"
   ]
  },
  {
   "cell_type": "markdown",
   "metadata": {},
   "source": [
    "## 5.top 5 view category\n",
    "세 국가에서 인기있는 카테고리를 비교하고 평균적으로 인기있는 카테고리 알아보기"
   ]
  },
  {
   "cell_type": "code",
   "execution_count": 51,
   "metadata": {},
   "outputs": [],
   "source": [
    "CTGRY = pd.merge(KR_Cmean, JP_Cmean, on = 'category_id')\n",
    "CTGRY = pd.merge(CTGRY, US_Cmean, on = 'category_id')"
   ]
  },
  {
   "cell_type": "code",
   "execution_count": 52,
   "metadata": {},
   "outputs": [
    {
     "name": "stdout",
     "output_type": "stream",
     "text": [
      "(15, 4)\n",
      "                 views_KR      views_JP  views_US  views_mean\n",
      "category_id                                                  \n",
      "1            5.440154e-06  2.554023e-06  0.000031    0.000013\n",
      "2            1.198672e-06  8.319242e-07  0.000014    0.000005\n",
      "10           2.080543e-05  8.297243e-06  0.000062    0.000030\n",
      "15           2.022284e-06  6.271681e-07  0.000008    0.000004\n",
      "17           5.987503e-06  2.850889e-06  0.000020    0.000010\n",
      "19           2.405090e-06  1.032965e-06  0.000009    0.000004\n",
      "20           2.814424e-06  1.684717e-06  0.000026    0.000010\n",
      "22           2.098027e-06  1.500606e-06  0.000015    0.000006\n",
      "23           3.598452e-06  3.781614e-06  0.000015    0.000007\n",
      "24           5.103813e-06  2.821966e-06  0.000021    0.000010\n",
      "25           1.546775e-06  1.338265e-06  0.000006    0.000003\n",
      "26           3.146176e-06  1.356909e-06  0.000010    0.000005\n",
      "27           1.511617e-06  8.666787e-07  0.000007    0.000003\n",
      "28           2.685160e-05  1.213748e-05  0.000015    0.000018\n",
      "29           6.316461e-07  9.003361e-07  0.000030    0.000010\n"
     ]
    }
   ],
   "source": [
    "CTGRY['views_KR'] = CTGRY['views_KR']/100000\n",
    "CTGRY['views_JP'] = CTGRY['views_JP']/100000\n",
    "CTGRY['views_US'] = CTGRY['views_US']/100000\n",
    "CTGRY['views_mean'] = (CTGRY['views_KR'] + CTGRY['views_JP'] + CTGRY['views_US'])/3\n",
    "print(CTGRY.shape)\n",
    "print(CTGRY)\n",
    "#조회수 단위는 십만."
   ]
  },
  {
   "cell_type": "markdown",
   "metadata": {},
   "source": [
    "세 국가의 유튜브 조회수가 크게 차이가 난다.  \n",
    "10번 카테고리는 세 국가 모두 높은 조회수를 기록한다.  \n",
    "한국에서는 특히 28번 카테고리 조회수가 높고 미국은 1번, 29번이 높다.  \n",
    "28번은 한국과 일본 모두 조회수가 높은 데 반해 미국에서는 오히려 조회수가 낮다."
   ]
  },
  {
   "cell_type": "markdown",
   "metadata": {},
   "source": [
    "## 6.comment count/views 비율\n",
    "### 6-1. 한국"
   ]
  },
  {
   "cell_type": "code",
   "execution_count": 53,
   "metadata": {},
   "outputs": [
    {
     "name": "stdout",
     "output_type": "stream",
     "text": [
      "      video_id  category_id   views  likes  dislikes  comment_count Country  \\\n",
      "0  RxGQe4EeEpA           22  156130   1422        40            272      KR   \n",
      "1  hH7wVE8OlQ0           25   76533    211        28            113      KR   \n",
      "2  9V8bnWUmE9U           22  421409   5112       166            459      KR   \n",
      "3  0_8py-t5R80           25  222850   2093       173           1219      KR   \n",
      "4  bk55RbxiQdI           25   84466   1094       109            450      KR   \n",
      "\n",
      "         cv  \n",
      "0  0.001742  \n",
      "1  0.001476  \n",
      "2  0.001089  \n",
      "3  0.005470  \n",
      "4  0.005328  \n"
     ]
    },
    {
     "data": {
      "text/plain": [
       "<matplotlib.axes._subplots.AxesSubplot at 0x186dd7bfc50>"
      ]
     },
     "execution_count": 53,
     "metadata": {},
     "output_type": "execute_result"
    },
    {
     "data": {
      "image/png": "[encoded data removed]",
      "text/plain": [
       "<Figure size 432x288 with 1 Axes>"
      ]
     },
     "metadata": {},
     "output_type": "display_data"
    }
   ],
   "source": [
    "KR_cut['cv']=KR_cut.comment_count/KR_cut.views\n",
    "print(KR_cut.head())\n",
    "KR_cut.cv.plot()"
   ]
  },
  {
   "cell_type": "markdown",
   "metadata": {},
   "source": [
    "category별, nation별과 같이 항목을 좁혀 보는 것이 더 유의미할 것으로 보인다."
   ]
  },
  {
   "cell_type": "markdown",
   "metadata": {},
   "source": [
    "### 6-2. 세 국가 통합"
   ]
  },
  {
   "cell_type": "code",
   "execution_count": 54,
   "metadata": {
    "scrolled": true
   },
   "outputs": [
    {
     "name": "stdout",
     "output_type": "stream",
     "text": [
      "      video_id  category_id   views  likes  dislikes  comment_count Country  \\\n",
      "0  RxGQe4EeEpA           22  156130   1422        40            272      KR   \n",
      "1  hH7wVE8OlQ0           25   76533    211        28            113      KR   \n",
      "2  9V8bnWUmE9U           22  421409   5112       166            459      KR   \n",
      "3  0_8py-t5R80           25  222850   2093       173           1219      KR   \n",
      "4  bk55RbxiQdI           25   84466   1094       109            450      KR   \n",
      "\n",
      "         cv  \n",
      "0  0.001742  \n",
      "1  0.001476  \n",
      "2  0.001089  \n",
      "3  0.005470  \n",
      "4  0.005328  \n"
     ]
    },
    {
     "data": {
      "text/plain": [
       "<matplotlib.axes._subplots.AxesSubplot at 0x186dd947400>"
      ]
     },
     "execution_count": 54,
     "metadata": {},
     "output_type": "execute_result"
    },
    {
     "data": {
      "image/png": "[encoded data removed]",
      "text/plain": [
       "<Figure size 432x288 with 1 Axes>"
      ]
     },
     "metadata": {},
     "output_type": "display_data"
    }
   ],
   "source": [
    "data['cv']=data.comment_count/data.views\n",
    "print(data.head())\n",
    "data.cv.plot()"
   ]
  },
  {
   "cell_type": "code",
   "execution_count": 55,
   "metadata": {},
   "outputs": [
    {
     "name": "stdout",
     "output_type": "stream",
     "text": [
      "0.37729376806936316\n"
     ]
    }
   ],
   "source": [
    "print((data.loc[:,\"comment_count\"].sum()) / (data.loc[:,\"views\"].sum())*100)"
   ]
  },
  {
   "cell_type": "markdown",
   "metadata": {},
   "source": [
    "### 6-3.views, comment_count 관계"
   ]
  },
  {
   "cell_type": "code",
   "execution_count": 56,
   "metadata": {
    "scrolled": true
   },
   "outputs": [
    {
     "data": {
      "image/png": "[encoded data removed]",
      "text/plain": [
       "<Figure size 432x288 with 1 Axes>"
      ]
     },
     "metadata": {},
     "output_type": "display_data"
    }
   ],
   "source": [
    "plt.scatter(KR_cut.views,KR_cut.comment_count)\n",
    "plt.show()"
   ]
  },
  {
   "cell_type": "code",
   "execution_count": 57,
   "metadata": {},
   "outputs": [
    {
     "data": {
      "image/png": "[encoded data removed]",
      "text/plain": [
       "<Figure size 432x288 with 1 Axes>"
      ]
     },
     "metadata": {},
     "output_type": "display_data"
    }
   ],
   "source": [
    "plt.scatter(data.views,data.comment_count)\n",
    "plt.show()"
   ]
  },
  {
   "cell_type": "markdown",
   "metadata": {},
   "source": [
    "## 7.likes, views 관계"
   ]
  },
  {
   "cell_type": "code",
   "execution_count": 58,
   "metadata": {
    "scrolled": true
   },
   "outputs": [
    {
     "name": "stderr",
     "output_type": "stream",
     "text": [
      "C:\\Users\\RYEJ\\Anaconda3\\lib\\site-packages\\scipy\\stats\\stats.py:1713: FutureWarning: Using a non-tuple sequence for multidimensional indexing is deprecated; use `arr[tuple(seq)]` instead of `arr[seq]`. In the future this will be interpreted as an array index, `arr[np.array(seq)]`, which will result either in an error or a different result.\n",
      "  return np.add.reduce(sorted[indexer] * weights, axis=axis) / sumval\n"
     ]
    },
    {
     "data": {
      "image/png": "[encoded data removed]",
      "text/plain": [
       "<Figure size 432x288 with 1 Axes>"
      ]
     },
     "metadata": {},
     "output_type": "display_data"
    }
   ],
   "source": [
    "sns.regplot(\"likes\",\"views\",data=KR_cut);"
   ]
  },
  {
   "cell_type": "code",
   "execution_count": 59,
   "metadata": {},
   "outputs": [
    {
     "name": "stderr",
     "output_type": "stream",
     "text": [
      "C:\\Users\\RYEJ\\Anaconda3\\lib\\site-packages\\scipy\\stats\\stats.py:1713: FutureWarning: Using a non-tuple sequence for multidimensional indexing is deprecated; use `arr[tuple(seq)]` instead of `arr[seq]`. In the future this will be interpreted as an array index, `arr[np.array(seq)]`, which will result either in an error or a different result.\n",
      "  return np.add.reduce(sorted[indexer] * weights, axis=axis) / sumval\n"
     ]
    },
    {
     "data": {
      "image/png": "[encoded data removed]",
      "text/plain": [
       "<Figure size 432x288 with 1 Axes>"
      ]
     },
     "metadata": {},
     "output_type": "display_data"
    }
   ],
   "source": [
    "sns.regplot(\"likes\",\"views\",data=data);"
   ]
  },
  {
   "cell_type": "markdown",
   "metadata": {},
   "source": [
    "likes와 views는 연관이 있다. 선형보단 비선형 회귀가 더 적합해보임. "
   ]
  }
 ],
 "metadata": {
  "kernelspec": {
   "display_name": "Python 3",
   "language": "python",
   "name": "python3"
  },
  "language_info": {
   "codemirror_mode": {
    "name": "ipython",
    "version": 3
   },
   "file_extension": ".py",
   "mimetype": "text/x-python",
   "name": "python",
   "nbconvert_exporter": "python",
   "pygments_lexer": "ipython3",
   "version": "3.7.0"
  }
 },
 "nbformat": 4,
 "nbformat_minor": 2
}
